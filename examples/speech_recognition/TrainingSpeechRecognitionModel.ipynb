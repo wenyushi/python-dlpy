{
 "cells": [
  {
   "cell_type": "markdown",
   "metadata": {},
   "source": [
    "<h1>DLPy Speech Training Example</h1>"
   ]
  },
  {
   "cell_type": "markdown",
   "metadata": {},
   "source": [
    "The following SAS DLPy example trains a speech model on an RNN network. The example uses a toy data set that is created in the code. \n",
    "\n",
    "The example assumes that you have already started a CAS server and you know the port number associated with that server. Also, both the Graphviz binaries/program and python package are required to run this notebook. "
   ]
  },
  {
   "cell_type": "markdown",
   "metadata": {},
   "source": [
    "<h3>Start a CAS Session and Import SWAT</h3>"
   ]
  },
  {
   "cell_type": "markdown",
   "metadata": {},
   "source": [
    "SAS DLPy requires a running SAS CAS server and a package called the Scripting Wrapper for Analytic Transfer (SWAT). The SWAT package is a Python interface to SAS Cloud Analytic Services (CAS). SWAT enables you to load data into memory and apply CAS actions to transform, summarize, model, and score the data.  \n",
    "\n",
    "When you import SWAT you must provide the name of your `cashost` and `casport`.\n",
    "\n",
    "<b>Note:</b> For more information about starting a CAS session with the SWAT package, see https://sassoftware.github.io/python-swat/getting-started.html."
   ]
  },
  {
   "cell_type": "code",
   "execution_count": 1,
   "metadata": {},
   "outputs": [],
   "source": [
    "import swat\n",
    "s = swat.CAS(cashost, casport)"
   ]
  },
  {
   "cell_type": "markdown",
   "metadata": {},
   "source": [
    "<h3>Import DLPy Package and Classes</h3>"
   ]
  },
  {
   "cell_type": "markdown",
   "metadata": {},
   "source": [
    "Now import and configure the DLPy API for the training. \n",
    "\n",
    "First, import the `Sequential` class for network models. Then import the `TextParms`, `DataSpec`, and `DataSpecNumNomOpts` classes from `dlpy.model`. Finally, import the `Bidirectional` class from `dlpy.blocks`, and the `SpeechRecognition` class from `dlpy.applications`."
   ]
  },
  {
   "cell_type": "code",
   "execution_count": 2,
   "metadata": {},
   "outputs": [],
   "source": [
    "# Import DLPy\n",
    "import dlpy\n",
    "from dlpy import Sequential\n",
    "from dlpy import *\n",
    "from dlpy.model import TextParms, DataSpec, DataSpecNumNomOpts\n",
    "from dlpy.blocks import Bidirectional\n",
    "from dlpy.applications import SpeechRecognition"
   ]
  },
  {
   "cell_type": "markdown",
   "metadata": {},
   "source": [
    "<h3>Create Example Data</h3>\n"
   ]
  },
  {
   "cell_type": "markdown",
   "metadata": {},
   "source": [
    "Now create a toy data set to use with the example. This toy data set uses x0-x9 as the input columns and y0-y4 as target columns. \n",
    "\n",
    "The data sets are read into memory in a later step. The `try: catch` block provides compatibility across Python versions when importing the `StringIO` libraries.  \n",
    "\n",
    "Use a data handler and the `addtable()` function to upload recently created `toytext_training` into a CAS table, `TOYTEXT_TRAINING`.\n"
   ]
  },
  {
   "cell_type": "code",
   "execution_count": 3,
   "metadata": {},
   "outputs": [
    {
     "data": {
      "text/html": [
       "<div class=\"cas-results-key\"><b>&#167; caslib</b></div>\n",
       "<div class=\"cas-results-body\">\n",
       "<div>CASUSER(ethem_kinginthenorth)</div>\n",
       "</div>\n",
       "<div class=\"cas-results-key\"><hr/><b>&#167; tableName</b></div>\n",
       "<div class=\"cas-results-body\">\n",
       "<div>TOYTEXT_TRAINING</div>\n",
       "</div>\n",
       "<div class=\"cas-results-key\"><hr/><b>&#167; casTable</b></div>\n",
       "<div class=\"cas-results-body\">\n",
       "<div>CASTable('TOYTEXT_TRAINING', caslib='CASUSER(ethem_kinginthenorth)')</div>\n",
       "</div>\n",
       "<div class=\"cas-output-area\"></div>\n",
       "<p class=\"cas-results-performance\"><small><span class=\"cas-elapsed\">elapsed 0.00397s</span> &#183; <span class=\"cas-user\">user 0.00111s</span> &#183; <span class=\"cas-sys\">sys 1e-05s</span> &#183; <span class=\"cas-memory\">mem 1.13MB</span></small></p>"
      ],
      "text/plain": [
       "[caslib]\n",
       "\n",
       " 'CASUSER(ethem_kinginthenorth)'\n",
       "\n",
       "[tableName]\n",
       "\n",
       " 'TOYTEXT_TRAINING'\n",
       "\n",
       "[casTable]\n",
       "\n",
       " CASTable('TOYTEXT_TRAINING', caslib='CASUSER(ethem_kinginthenorth)')\n",
       "\n",
       "+ Elapsed: 0.00397s, user: 0.00111s, sys: 1e-05s, mem: 1.13mb"
      ]
     },
     "execution_count": 3,
     "metadata": {},
     "output_type": "execute_result"
    }
   ],
   "source": [
    "# Create a toy dataset\n",
    "try:\n",
    "    from StringIO import StringIO\n",
    "except ImportError:\n",
    "    from io import StringIO\n",
    "import swat.cas.datamsghandlers as dmh\n",
    "\n",
    "toytext = StringIO('''x0,x1,x2,x3,x4,x5,x6,x7,x8,x9,xlen,ylen,y0,y1,y2,y3,y4\n",
    "                    0.1,0.11,-0.2,-0.21,-0.25,-0.26,-0.7,-0.76,0.78,0.80,10,4,'b ', 'o ', 'o ','k ', '<>'\n",
    "                    0.8, 0.78,0.2, 0.18,0.11,0.12,0.5,0.56,0,0,8,4,'l ','a ', 'm ', 'p ', '<>'\n",
    "                    0.12,0.11, 0.3,0.32, -0.5,-0.56,0,0,0,0,6,3,'m ', 'e ', 'h ', '<>', '<>'\n",
    "                    0.92, 0.90,-0.26, -0.24,0, 0,0,0,0,0,4,2,'n ', 'o ', '<>', '<>', '<>'\n",
    "                    ''')\n",
    "handler = dmh.CSV(toytext, skipinitialspace=True)\n",
    "s.addtable(table='toytext_training', replace=True, **handler.args.addtable)"
   ]
  },
  {
   "cell_type": "markdown",
   "metadata": {},
   "source": [
    "You can see in the results above that the CAS table \"TOYTEXT_TRAINING\" is created.\n",
    "\n"
   ]
  },
  {
   "cell_type": "markdown",
   "metadata": {},
   "source": [
    "<h3>Create Acoustic Model</h3>"
   ]
  },
  {
   "cell_type": "markdown",
   "metadata": {},
   "source": [
    "Next, create an acoustic model. The acoustic model should have 1 block and 15 neurons."
   ]
  },
  {
   "cell_type": "code",
   "execution_count": 4,
   "metadata": {},
   "outputs": [
    {
     "name": "stdout",
     "output_type": "stream",
     "text": [
      "NOTE: Output layer added.\n",
      "NOTE: Model compiled successfully.\n"
     ]
    }
   ],
   "source": [
    "# create an acoustic model\n",
    "model = SpeechRecognition(s, neurons=15, n_blocks=1)"
   ]
  },
  {
   "cell_type": "markdown",
   "metadata": {},
   "source": [
    "<h3>Visualize the Network</h3>"
   ]
  },
  {
   "cell_type": "markdown",
   "metadata": {},
   "source": [
    "Use `plot_network()` (from Graphviz library) to visualize the newly created acoustic model network."
   ]
  },
  {
   "cell_type": "code",
   "execution_count": 5,
   "metadata": {},
   "outputs": [
    {
     "data": {
      "image/svg+xml": [
       "<?xml version=\"1.0\" encoding=\"UTF-8\" standalone=\"no\"?>\n",
       "<!DOCTYPE svg PUBLIC \"-//W3C//DTD SVG 1.1//EN\"\n",
       " \"http://www.w3.org/Graphics/SVG/1.1/DTD/svg11.dtd\">\n",
       "<!-- Generated by graphviz version 2.40.1 (20161225.0304)\n",
       " -->\n",
       "<!-- Title: acoustic_model Pages: 1 -->\n",
       "<svg width=\"352pt\" height=\"171pt\"\n",
       " viewBox=\"0.00 0.00 352.00 171.00\" xmlns=\"http://www.w3.org/2000/svg\" xmlns:xlink=\"http://www.w3.org/1999/xlink\">\n",
       "<g id=\"graph0\" class=\"graph\" transform=\"scale(1 1) rotate(0) translate(4 167)\">\n",
       "<title>acoustic_model</title>\n",
       "<polygon fill=\"#ffffff\" stroke=\"transparent\" points=\"-4,4 -4,-167 348,-167 348,4 -4,4\"/>\n",
       "<!-- input_layer_to_bidirectional_rnn -->\n",
       "<g id=\"node1\" class=\"node\">\n",
       "<title>input_layer_to_bidirectional_rnn</title>\n",
       "<polygon fill=\"#3288bd\" fill-opacity=\"0.250980\" stroke=\"#3288bd\" points=\"33.5,-140.5 33.5,-162.5 291.5,-162.5 291.5,-140.5 33.5,-140.5\"/>\n",
       "<text text-anchor=\"middle\" x=\"162.5\" y=\"-147.8\" font-family=\"Helvetica,sans-Serif\" font-size=\"14.00\" fill=\"#000000\">input_layer_to_bidirectional_rnn(input)</text>\n",
       "</g>\n",
       "<!-- RNN0B1 -->\n",
       "<g id=\"node2\" class=\"node\">\n",
       "<title>RNN0B1</title>\n",
       "<polygon fill=\"#abdda4\" fill-opacity=\"0.250980\" stroke=\"#abdda4\" points=\"0,-70.5 0,-92.5 145,-92.5 145,-70.5 0,-70.5\"/>\n",
       "<text text-anchor=\"middle\" x=\"72.5\" y=\"-77.8\" font-family=\"Helvetica,sans-Serif\" font-size=\"14.00\" fill=\"#000000\">RNN0B1(recurrent)</text>\n",
       "</g>\n",
       "<!-- input_layer_to_bidirectional_rnn&#45;&gt;RNN0B1 -->\n",
       "<g id=\"edge1\" class=\"edge\">\n",
       "<title>input_layer_to_bidirectional_rnn&#45;&gt;RNN0B1</title>\n",
       "<path fill=\"none\" stroke=\"#5677f3\" d=\"M148.0399,-140.2533C133.738,-129.1295 111.6433,-111.9448 95.0374,-99.0291\"/>\n",
       "<polygon fill=\"#5677f3\" stroke=\"#5677f3\" points=\"96.9665,-96.0955 86.9242,-92.7188 92.6689,-101.621 96.9665,-96.0955\"/>\n",
       "<text text-anchor=\"middle\" x=\"129.5\" y=\"-114\" font-family=\"Helvetica,sans-Serif\" font-size=\"10.00\" fill=\"#000000\"> 0 </text>\n",
       "</g>\n",
       "<!-- RNN1B1 -->\n",
       "<g id=\"node3\" class=\"node\">\n",
       "<title>RNN1B1</title>\n",
       "<polygon fill=\"#abdda4\" fill-opacity=\"0.250980\" stroke=\"#abdda4\" points=\"181,-70.5 181,-92.5 326,-92.5 326,-70.5 181,-70.5\"/>\n",
       "<text text-anchor=\"middle\" x=\"253.5\" y=\"-77.8\" font-family=\"Helvetica,sans-Serif\" font-size=\"14.00\" fill=\"#000000\">RNN1B1(recurrent)</text>\n",
       "</g>\n",
       "<!-- input_layer_to_bidirectional_rnn&#45;&gt;RNN1B1 -->\n",
       "<g id=\"edge3\" class=\"edge\">\n",
       "<title>input_layer_to_bidirectional_rnn&#45;&gt;RNN1B1</title>\n",
       "<path fill=\"none\" stroke=\"#5677f3\" d=\"M177.1207,-140.2533C191.5816,-129.1295 213.9218,-111.9448 230.7122,-99.0291\"/>\n",
       "<polygon fill=\"#5677f3\" stroke=\"#5677f3\" points=\"233.1233,-101.5901 238.9156,-92.7188 228.8553,-96.0418 233.1233,-101.5901\"/>\n",
       "<text text-anchor=\"middle\" x=\"218.5\" y=\"-114\" font-family=\"Helvetica,sans-Serif\" font-size=\"10.00\" fill=\"#000000\"> 0 </text>\n",
       "</g>\n",
       "<!-- RNN0B1&#45;&gt;RNN0B1 -->\n",
       "<g id=\"edge2\" class=\"edge\">\n",
       "<title>RNN0B1&#45;&gt;RNN0B1</title>\n",
       "<path fill=\"none\" stroke=\"#5677f3\" d=\"M145.2883,-87.2524C155.8708,-86.3394 163,-84.4219 163,-81.5 163,-79.6738 160.2151,-78.24 155.5429,-77.1985\"/>\n",
       "<polygon fill=\"#5677f3\" stroke=\"#5677f3\" points=\"155.6801,-73.6831 145.2883,-75.7476 154.6993,-80.6141 155.6801,-73.6831\"/>\n",
       "</g>\n",
       "<!-- Output1 -->\n",
       "<g id=\"node4\" class=\"node\">\n",
       "<title>Output1</title>\n",
       "<polygon fill=\"#5e4fa2\" fill-opacity=\"0.125490\" stroke=\"#5e4fa2\" points=\"100.5,-.5 100.5,-22.5 224.5,-22.5 224.5,-.5 100.5,-.5\"/>\n",
       "<text text-anchor=\"middle\" x=\"162.5\" y=\"-7.8\" font-family=\"Helvetica,sans-Serif\" font-size=\"14.00\" fill=\"#000000\">Output1(output)</text>\n",
       "</g>\n",
       "<!-- RNN0B1&#45;&gt;Output1 -->\n",
       "<g id=\"edge5\" class=\"edge\">\n",
       "<title>RNN0B1&#45;&gt;Output1</title>\n",
       "<path fill=\"none\" stroke=\"#5677f3\" d=\"M86.9601,-70.2533C101.262,-59.1295 123.3567,-41.9448 139.9626,-29.0291\"/>\n",
       "<polygon fill=\"#5677f3\" stroke=\"#5677f3\" points=\"142.3311,-31.621 148.0758,-22.7188 138.0335,-26.0955 142.3311,-31.621\"/>\n",
       "<text text-anchor=\"middle\" x=\"132\" y=\"-44\" font-family=\"Helvetica,sans-Serif\" font-size=\"10.00\" fill=\"#000000\"> 15 </text>\n",
       "</g>\n",
       "<!-- RNN1B1&#45;&gt;RNN1B1 -->\n",
       "<g id=\"edge4\" class=\"edge\">\n",
       "<title>RNN1B1&#45;&gt;RNN1B1</title>\n",
       "<path fill=\"none\" stroke=\"#5677f3\" d=\"M326.2883,-87.2524C336.8708,-86.3394 344,-84.4219 344,-81.5 344,-79.6738 341.2151,-78.24 336.5429,-77.1985\"/>\n",
       "<polygon fill=\"#5677f3\" stroke=\"#5677f3\" points=\"336.6801,-73.6831 326.2883,-75.7476 335.6993,-80.6141 336.6801,-73.6831\"/>\n",
       "</g>\n",
       "<!-- RNN1B1&#45;&gt;Output1 -->\n",
       "<g id=\"edge6\" class=\"edge\">\n",
       "<title>RNN1B1&#45;&gt;Output1</title>\n",
       "<path fill=\"none\" stroke=\"#5677f3\" d=\"M238.8793,-70.2533C224.4184,-59.1295 202.0782,-41.9448 185.2878,-29.0291\"/>\n",
       "<polygon fill=\"#5677f3\" stroke=\"#5677f3\" points=\"187.1447,-26.0418 177.0844,-22.7188 182.8767,-31.5901 187.1447,-26.0418\"/>\n",
       "<text text-anchor=\"middle\" x=\"221\" y=\"-44\" font-family=\"Helvetica,sans-Serif\" font-size=\"10.00\" fill=\"#000000\"> 15 </text>\n",
       "</g>\n",
       "</g>\n",
       "</svg>\n"
      ],
      "text/plain": [
       "<graphviz.dot.Digraph at 0x7f4c90669da0>"
      ]
     },
     "execution_count": 5,
     "metadata": {},
     "output_type": "execute_result"
    }
   ],
   "source": [
    "model.plot_network()"
   ]
  },
  {
   "cell_type": "markdown",
   "metadata": {},
   "source": [
    "<h3>Train the Acoustic Model</h3>"
   ]
  },
  {
   "cell_type": "markdown",
   "metadata": {},
   "source": [
    "Now train the acoustic model using the `Model.fit()` function. Use DataSpec to define the input and output parameters. \n",
    "\n",
    "The input layer is numeric and the output layer is nominal (characters). \n",
    "\n",
    "The model training uses the `toytext_training` data, is constrained to 5 epochs, and has a learning rate of 0.001. The log level is configured for basic reporting. "
   ]
  },
  {
   "cell_type": "code",
   "execution_count": 6,
   "metadata": {},
   "outputs": [
    {
     "name": "stdout",
     "output_type": "stream",
     "text": [
      "NOTE: Training from scratch.\n",
      "NOTE:  The Synchronous mode is enabled.\n",
      "NOTE:  The total number of parameters is 1992.\n",
      "NOTE:  The approximate memory cost is 1.00 MB.\n",
      "NOTE:  Loading weights cost       0.00 (s).\n",
      "NOTE:  Initializing each layer cost       0.01 (s).\n",
      "NOTE:  The total number of threads on each worker is 32.\n",
      "NOTE:  The total mini-batch size per thread on each worker is 1.\n",
      "NOTE:  The maximum mini-batch size across all workers for the synchronous mode is 32.\n",
      "NOTE:  Target variable: y0\n",
      "NOTE:  Number of levels for the target variable:     12\n",
      "NOTE:  Levels for the target variable:\n",
      "NOTE:  Level      0: 'b '\n",
      "NOTE:  Level      1: 'm '\n",
      "NOTE:  Level      2: 'l '\n",
      "NOTE:  Level      3: 'n '\n",
      "NOTE:  Level      4: 'e '\n",
      "NOTE:  Level      5: 'a '\n",
      "NOTE:  Level      6: 'o '\n",
      "NOTE:  Level      7: 'h '\n",
      "NOTE:  Level      8: '<>'\n",
      "NOTE:  Level      9: 'k '\n",
      "NOTE:  Level     10: 'p '\n",
      "NOTE:  Level     11:     \n",
      "NOTE:  Number of input variables:    10\n",
      "NOTE:  Number of numeric input variables:     10\n",
      "NOTE:  Epoch Learning Rate        Loss  Fit Error   Time(s)\n",
      "NOTE:  0         0.001            10.1          1     0.00\n",
      "NOTE:  1         0.001           10.14      0.875     0.00\n",
      "NOTE:  2         0.001           10.34          1     0.00\n",
      "NOTE:  3         0.001           9.919     0.7292     0.00\n",
      "NOTE:  4         0.001           9.992          1     0.00\n",
      "NOTE:  The optimization reached the maximum number of epochs.\n",
      "NOTE:  The total time is       0.00 (s).\n"
     ]
    },
    {
     "data": {
      "text/html": [
       "<div class=\"cas-results-key\"><b>&#167; ModelInfo</b></div>\n",
       "<div class=\"cas-results-body\">\n",
       "<div>\n",
       "<style scoped>\n",
       "    .dataframe tbody tr th:only-of-type {\n",
       "        vertical-align: middle;\n",
       "    }\n",
       "\n",
       "    .dataframe tbody tr th {\n",
       "        vertical-align: top;\n",
       "    }\n",
       "\n",
       "    .dataframe thead th {\n",
       "        text-align: right;\n",
       "    }\n",
       "</style>\n",
       "<table border=\"1\" class=\"dataframe\">\n",
       "  <thead>\n",
       "    <tr style=\"text-align: right;\">\n",
       "      <th title=\"\"></th>\n",
       "      <th title=\"Descr\">Descr</th>\n",
       "      <th title=\"Value\">Value</th>\n",
       "    </tr>\n",
       "  </thead>\n",
       "  <tbody>\n",
       "    <tr>\n",
       "      <th>0</th>\n",
       "      <td>Model Name</td>\n",
       "      <td>acoustic_model</td>\n",
       "    </tr>\n",
       "    <tr>\n",
       "      <th>1</th>\n",
       "      <td>Model Type</td>\n",
       "      <td>Recurrent Neural Network</td>\n",
       "    </tr>\n",
       "    <tr>\n",
       "      <th>2</th>\n",
       "      <td>Number of Layers</td>\n",
       "      <td>4</td>\n",
       "    </tr>\n",
       "    <tr>\n",
       "      <th>3</th>\n",
       "      <td>Number of Input Layers</td>\n",
       "      <td>1</td>\n",
       "    </tr>\n",
       "    <tr>\n",
       "      <th>4</th>\n",
       "      <td>Number of Output Layers</td>\n",
       "      <td>1</td>\n",
       "    </tr>\n",
       "    <tr>\n",
       "      <th>5</th>\n",
       "      <td>Number of Convolutional Layers</td>\n",
       "      <td>0</td>\n",
       "    </tr>\n",
       "    <tr>\n",
       "      <th>6</th>\n",
       "      <td>Number of Pooling Layers</td>\n",
       "      <td>0</td>\n",
       "    </tr>\n",
       "    <tr>\n",
       "      <th>7</th>\n",
       "      <td>Number of Fully Connected Layers</td>\n",
       "      <td>0</td>\n",
       "    </tr>\n",
       "    <tr>\n",
       "      <th>8</th>\n",
       "      <td>Number of Recurrent Layers</td>\n",
       "      <td>2</td>\n",
       "    </tr>\n",
       "    <tr>\n",
       "      <th>9</th>\n",
       "      <td>Number of Weight Parameters</td>\n",
       "      <td>1890</td>\n",
       "    </tr>\n",
       "    <tr>\n",
       "      <th>10</th>\n",
       "      <td>Number of Bias Parameters</td>\n",
       "      <td>102</td>\n",
       "    </tr>\n",
       "    <tr>\n",
       "      <th>11</th>\n",
       "      <td>Total Number of Model Parameters</td>\n",
       "      <td>1992</td>\n",
       "    </tr>\n",
       "    <tr>\n",
       "      <th>12</th>\n",
       "      <td>Approximate Memory Cost for Training (MB)</td>\n",
       "      <td>1</td>\n",
       "    </tr>\n",
       "  </tbody>\n",
       "</table>\n",
       "</div>\n",
       "</div>\n",
       "<div class=\"cas-results-key\"><hr/><b>&#167; OptIterHistory</b></div>\n",
       "<div class=\"cas-results-body\">\n",
       "<div>\n",
       "<style scoped>\n",
       "    .dataframe tbody tr th:only-of-type {\n",
       "        vertical-align: middle;\n",
       "    }\n",
       "\n",
       "    .dataframe tbody tr th {\n",
       "        vertical-align: top;\n",
       "    }\n",
       "\n",
       "    .dataframe thead th {\n",
       "        text-align: right;\n",
       "    }\n",
       "</style>\n",
       "<table border=\"1\" class=\"dataframe\">\n",
       "  <thead>\n",
       "    <tr style=\"text-align: right;\">\n",
       "      <th title=\"\"></th>\n",
       "      <th title=\"Epoch\">Epoch</th>\n",
       "      <th title=\"LearningRate\">LearningRate</th>\n",
       "      <th title=\"Loss\">Loss</th>\n",
       "      <th title=\"FitError\">FitError</th>\n",
       "    </tr>\n",
       "  </thead>\n",
       "  <tbody>\n",
       "    <tr>\n",
       "      <th>0</th>\n",
       "      <td>1</td>\n",
       "      <td>0.001</td>\n",
       "      <td>10.101595</td>\n",
       "      <td>1.000000</td>\n",
       "    </tr>\n",
       "    <tr>\n",
       "      <th>1</th>\n",
       "      <td>2</td>\n",
       "      <td>0.001</td>\n",
       "      <td>10.136481</td>\n",
       "      <td>0.875000</td>\n",
       "    </tr>\n",
       "    <tr>\n",
       "      <th>2</th>\n",
       "      <td>3</td>\n",
       "      <td>0.001</td>\n",
       "      <td>10.341316</td>\n",
       "      <td>1.000000</td>\n",
       "    </tr>\n",
       "    <tr>\n",
       "      <th>3</th>\n",
       "      <td>4</td>\n",
       "      <td>0.001</td>\n",
       "      <td>9.918608</td>\n",
       "      <td>0.729167</td>\n",
       "    </tr>\n",
       "    <tr>\n",
       "      <th>4</th>\n",
       "      <td>5</td>\n",
       "      <td>0.001</td>\n",
       "      <td>9.991799</td>\n",
       "      <td>1.000000</td>\n",
       "    </tr>\n",
       "  </tbody>\n",
       "</table>\n",
       "</div>\n",
       "</div>\n",
       "<div class=\"cas-results-key\"><hr/><b>&#167; OutputCasTables</b></div>\n",
       "<div class=\"cas-results-body\">\n",
       "<div>\n",
       "<style scoped>\n",
       "    .dataframe tbody tr th:only-of-type {\n",
       "        vertical-align: middle;\n",
       "    }\n",
       "\n",
       "    .dataframe tbody tr th {\n",
       "        vertical-align: top;\n",
       "    }\n",
       "\n",
       "    .dataframe thead th {\n",
       "        text-align: right;\n",
       "    }\n",
       "</style>\n",
       "<table border=\"1\" class=\"dataframe\">\n",
       "  <thead>\n",
       "    <tr style=\"text-align: right;\">\n",
       "      <th title=\"\"></th>\n",
       "      <th title=\"CAS Library\">casLib</th>\n",
       "      <th title=\"Name\">Name</th>\n",
       "      <th title=\"Number of Rows\">Rows</th>\n",
       "      <th title=\"Number of Columns\">Columns</th>\n",
       "      <th title=\"Table\">casTable</th>\n",
       "    </tr>\n",
       "  </thead>\n",
       "  <tbody>\n",
       "    <tr>\n",
       "      <th>0</th>\n",
       "      <td>CASUSER(ethem_kinginthenorth)</td>\n",
       "      <td>acoustic_model_weights</td>\n",
       "      <td>1992</td>\n",
       "      <td>3</td>\n",
       "      <td>CASTable('acoustic_model_weights', caslib='CAS...</td>\n",
       "    </tr>\n",
       "  </tbody>\n",
       "</table>\n",
       "</div>\n",
       "</div>\n",
       "<div class=\"cas-output-area\"></div>\n",
       "<p class=\"cas-results-performance\"><small><span class=\"cas-elapsed\">elapsed 0.0225s</span> &#183; <span class=\"cas-user\">user 0.0313s</span> &#183; <span class=\"cas-sys\">sys 0.024s</span> &#183; <span class=\"cas-memory\">mem 37.7MB</span></small></p>"
      ],
      "text/plain": [
       "[ModelInfo]\n",
       "\n",
       "                                         Descr                     Value\n",
       " 0                                  Model Name            acoustic_model\n",
       " 1                                  Model Type  Recurrent Neural Network\n",
       " 2                            Number of Layers                         4\n",
       " 3                      Number of Input Layers                         1\n",
       " 4                     Number of Output Layers                         1\n",
       " 5              Number of Convolutional Layers                         0\n",
       " 6                    Number of Pooling Layers                         0\n",
       " 7            Number of Fully Connected Layers                         0\n",
       " 8                  Number of Recurrent Layers                         2\n",
       " 9                 Number of Weight Parameters                      1890\n",
       " 10                  Number of Bias Parameters                       102\n",
       " 11           Total Number of Model Parameters                      1992\n",
       " 12  Approximate Memory Cost for Training (MB)                         1\n",
       "\n",
       "[OptIterHistory]\n",
       "\n",
       "    Epoch  LearningRate       Loss  FitError\n",
       " 0      1         0.001  10.101595  1.000000\n",
       " 1      2         0.001  10.136481  0.875000\n",
       " 2      3         0.001  10.341316  1.000000\n",
       " 3      4         0.001   9.918608  0.729167\n",
       " 4      5         0.001   9.991799  1.000000\n",
       "\n",
       "[OutputCasTables]\n",
       "\n",
       "             casLib                    Name  Rows  Columns  \\\n",
       " 0  CASUSER(ethem_kinginthenorth)  acoustic_model_weights  1992        3   \n",
       " \n",
       "                                             casTable  \n",
       " 0  CASTable('acoustic_model_weights', caslib='CAS...  \n",
       "\n",
       "+ Elapsed: 0.0225s, user: 0.0313s, sys: 0.024s, mem: 37.7mb"
      ]
     },
     "execution_count": 6,
     "metadata": {},
     "output_type": "execute_result"
    }
   ],
   "source": [
    "# Training acoustic model\n",
    "# dataspec layer names should be the same as the layer names in the model\n",
    "\n",
    "model.fit(data='toytext_training', \n",
    "          data_specs=[DataSpec(type_='numericnominal', layer='input_layer_to_bidirectional_rnn', \n",
    "                               data=['x0','x1','x2','x3','x4','x5','x6','x7','x8','x9'], \n",
    "                               numeric_nominal_parms=DataSpecNumNomOpts(token_size=2, length='xlen')), \n",
    "                     DataSpec(type_='numericnominal', layer='Output1', \n",
    "                              data=['y0','y1','y2','y3','y4'], \n",
    "                              numeric_nominal_parms=DataSpecNumNomOpts(token_size=1,length='ylen'))],\n",
    "          max_epochs=5, lr=0.001, log_level=2)"
   ]
  },
  {
   "cell_type": "markdown",
   "metadata": {},
   "source": [
    "The resulting acoustic model has 4 layers: 1 input layer, 2 recurrent layers (1 forward layer and 1 backward layer making up the bidirectional layer), and 1 output layer. The model has 1,992 parameters. \n",
    "\n",
    "After the 5 epochs, the model loss rate come to 9.992. You may get a difference loss value since the `seed` parameter is set to 0 by default, and thus random number streams based on the computer clock will be used in SGD (Reference: https://sassoftware.github.io/python-dlpy/generated/dlpy.model.Model.fit.html)."
   ]
  }
 ],
 "metadata": {
  "kernelspec": {
   "display_name": "Python 3",
   "language": "python",
   "name": "python3"
  },
  "language_info": {
   "codemirror_mode": {
    "name": "ipython",
    "version": 3
   },
   "file_extension": ".py",
   "mimetype": "text/x-python",
   "name": "python",
   "nbconvert_exporter": "python",
   "pygments_lexer": "ipython3",
   "version": "3.7.3"
  }
 },
 "nbformat": 4,
 "nbformat_minor": 2
}
